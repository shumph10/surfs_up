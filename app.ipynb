import flask import Flask
#create new flask instance called app
    #variables with the __ __ are valled magic methods in python
    #can be used to det if your code is being run from command line or 
    #imported into another piece of code
app = Flask(__name__)


